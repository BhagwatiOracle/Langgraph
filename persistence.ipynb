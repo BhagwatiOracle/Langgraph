{
 "cells": [
  {
   "cell_type": "code",
   "execution_count": 1,
   "id": "ed923546",
   "metadata": {},
   "outputs": [],
   "source": [
    "from langgraph.graph import StateGraph, START, END\n",
    "from typing import TypedDict\n",
    "from langchain_groq import ChatGroq\n",
    "from dotenv import load_dotenv\n",
    "from langgraph.checkpoint.memory import InMemorySaver"
   ]
  },
  {
   "cell_type": "code",
   "execution_count": 2,
   "id": "5946611d",
   "metadata": {},
   "outputs": [],
   "source": [
    "load_dotenv()\n",
    "\n",
    "llm = ChatGroq(model='Gemma2-9b-it')"
   ]
  },
  {
   "cell_type": "code",
   "execution_count": 3,
   "id": "16b250ae",
   "metadata": {},
   "outputs": [],
   "source": [
    "class JokeState(TypedDict):\n",
    "    topic: str\n",
    "    joke: str\n",
    "    explanation:str"
   ]
  },
  {
   "cell_type": "code",
   "execution_count": 5,
   "id": "811a1919",
   "metadata": {},
   "outputs": [],
   "source": [
    "def generate_joke(state: JokeState):\n",
    "\n",
    "    prompt = f\"generate a joke on the topic {state['topic']}\"\n",
    "    response = llm.invoke(prompt).content\n",
    "\n",
    "    return {'joke': response}"
   ]
  },
  {
   "cell_type": "code",
   "execution_count": 7,
   "id": "8c5ab448",
   "metadata": {},
   "outputs": [],
   "source": [
    "def generate_explanation(state: JokeState):\n",
    "\n",
    "    prompt = f\"write an explanation for the joke - {state['joke']}\"\n",
    "    response = llm.invoke(prompt).content\n",
    "\n",
    "    return {'explanation': response}"
   ]
  },
  {
   "cell_type": "code",
   "execution_count": 9,
   "id": "fb459c3e",
   "metadata": {},
   "outputs": [],
   "source": [
    "graph = StateGraph(JokeState)\n",
    "\n",
    "graph.add_node('generate_joke',generate_joke)\n",
    "graph.add_node('generate_explanation',generate_explanation)\n",
    "\n",
    "graph.add_edge(START, 'generate_joke')\n",
    "graph.add_edge('generate_joke','generate_explanation')\n",
    "graph.add_edge('generate_explanation',END)\n",
    "\n",
    "checkpointer = InMemorySaver()\n",
    "\n",
    "workflow = graph.compile(checkpointer=checkpointer)"
   ]
  },
  {
   "cell_type": "code",
   "execution_count": 10,
   "id": "3fe52ed2",
   "metadata": {},
   "outputs": [
    {
     "data": {
      "text/plain": [
       "{'topic': 'pizza',\n",
       " 'joke': 'Why did the pizza slice go to the doctor? \\n\\nBecause it was feeling a little cheesy! 🍕  \\n',\n",
       " 'explanation': 'This is a play on words!  \\n\\n* **Cheesy** can refer to something being cheesy in the sense of being over-the-top or corny. \\n* **Cheesy** can also refer to the type of dairy product used on pizza.\\n\\nThe joke makes a humorous connection between these two meanings. The pizza slice is feeling \"a little cheesy\" in the sense that it\\'s feeling unwell, but it also literally *is* cheesy because it\\'s made of cheese.  \\n\\n'}"
      ]
     },
     "execution_count": 10,
     "metadata": {},
     "output_type": "execute_result"
    }
   ],
   "source": [
    "config1= {'configurable':{'thread_id':'1'}}\n",
    "\n",
    "workflow.invoke({'topic':'pizza'},config=config1)"
   ]
  },
  {
   "cell_type": "code",
   "execution_count": 11,
   "id": "94c29412",
   "metadata": {},
   "outputs": [
    {
     "data": {
      "text/plain": [
       "StateSnapshot(values={'topic': 'pizza', 'joke': 'Why did the pizza slice go to the doctor? \\n\\nBecause it was feeling a little cheesy! 🍕  \\n', 'explanation': 'This is a play on words!  \\n\\n* **Cheesy** can refer to something being cheesy in the sense of being over-the-top or corny. \\n* **Cheesy** can also refer to the type of dairy product used on pizza.\\n\\nThe joke makes a humorous connection between these two meanings. The pizza slice is feeling \"a little cheesy\" in the sense that it\\'s feeling unwell, but it also literally *is* cheesy because it\\'s made of cheese.  \\n\\n'}, next=(), config={'configurable': {'thread_id': '1', 'checkpoint_ns': '', 'checkpoint_id': '1f07339a-a332-6196-8002-f6acae7c12c9'}}, metadata={'source': 'loop', 'step': 2, 'parents': {}}, created_at='2025-08-07T02:53:15.429314+00:00', parent_config={'configurable': {'thread_id': '1', 'checkpoint_ns': '', 'checkpoint_id': '1f07339a-9d19-6624-8001-7943e757d919'}}, tasks=(), interrupts=())"
      ]
     },
     "execution_count": 11,
     "metadata": {},
     "output_type": "execute_result"
    }
   ],
   "source": [
    "# get last state\n",
    "\n",
    "workflow.get_state(config1)"
   ]
  },
  {
   "cell_type": "code",
   "execution_count": 13,
   "id": "21176917",
   "metadata": {},
   "outputs": [
    {
     "data": {
      "text/plain": [
       "[StateSnapshot(values={'topic': 'pizza', 'joke': 'Why did the pizza slice go to the doctor? \\n\\nBecause it was feeling a little cheesy! 🍕  \\n', 'explanation': 'This is a play on words!  \\n\\n* **Cheesy** can refer to something being cheesy in the sense of being over-the-top or corny. \\n* **Cheesy** can also refer to the type of dairy product used on pizza.\\n\\nThe joke makes a humorous connection between these two meanings. The pizza slice is feeling \"a little cheesy\" in the sense that it\\'s feeling unwell, but it also literally *is* cheesy because it\\'s made of cheese.  \\n\\n'}, next=(), config={'configurable': {'thread_id': '1', 'checkpoint_ns': '', 'checkpoint_id': '1f07339a-a332-6196-8002-f6acae7c12c9'}}, metadata={'source': 'loop', 'step': 2, 'parents': {}}, created_at='2025-08-07T02:53:15.429314+00:00', parent_config={'configurable': {'thread_id': '1', 'checkpoint_ns': '', 'checkpoint_id': '1f07339a-9d19-6624-8001-7943e757d919'}}, tasks=(), interrupts=()),\n",
       " StateSnapshot(values={'topic': 'pizza', 'joke': 'Why did the pizza slice go to the doctor? \\n\\nBecause it was feeling a little cheesy! 🍕  \\n'}, next=('generate_explanation',), config={'configurable': {'thread_id': '1', 'checkpoint_ns': '', 'checkpoint_id': '1f07339a-9d19-6624-8001-7943e757d919'}}, metadata={'source': 'loop', 'step': 1, 'parents': {}}, created_at='2025-08-07T02:53:14.790045+00:00', parent_config={'configurable': {'thread_id': '1', 'checkpoint_ns': '', 'checkpoint_id': '1f07339a-8f86-697b-8000-e29a5065c627'}}, tasks=(PregelTask(id='ccdf6e5a-8e22-a7d9-da7a-4afd3f90ca1a', name='generate_explanation', path=('__pregel_pull', 'generate_explanation'), error=None, interrupts=(), state=None, result={'explanation': 'This is a play on words!  \\n\\n* **Cheesy** can refer to something being cheesy in the sense of being over-the-top or corny. \\n* **Cheesy** can also refer to the type of dairy product used on pizza.\\n\\nThe joke makes a humorous connection between these two meanings. The pizza slice is feeling \"a little cheesy\" in the sense that it\\'s feeling unwell, but it also literally *is* cheesy because it\\'s made of cheese.  \\n\\n'}),), interrupts=()),\n",
       " StateSnapshot(values={'topic': 'pizza'}, next=('generate_joke',), config={'configurable': {'thread_id': '1', 'checkpoint_ns': '', 'checkpoint_id': '1f07339a-8f86-697b-8000-e29a5065c627'}}, metadata={'source': 'loop', 'step': 0, 'parents': {}}, created_at='2025-08-07T02:53:13.366770+00:00', parent_config={'configurable': {'thread_id': '1', 'checkpoint_ns': '', 'checkpoint_id': '1f07339a-8f86-697a-bfff-8ec31efca02c'}}, tasks=(PregelTask(id='972af842-f200-1c47-197d-cbe7e426cca0', name='generate_joke', path=('__pregel_pull', 'generate_joke'), error=None, interrupts=(), state=None, result={'joke': 'Why did the pizza slice go to the doctor? \\n\\nBecause it was feeling a little cheesy! 🍕  \\n'}),), interrupts=()),\n",
       " StateSnapshot(values={}, next=('__start__',), config={'configurable': {'thread_id': '1', 'checkpoint_ns': '', 'checkpoint_id': '1f07339a-8f86-697a-bfff-8ec31efca02c'}}, metadata={'source': 'input', 'step': -1, 'parents': {}}, created_at='2025-08-07T02:53:13.366770+00:00', parent_config=None, tasks=(PregelTask(id='9ca533aa-5b01-fa9d-f73a-ee3268b001c3', name='__start__', path=('__pregel_pull', '__start__'), error=None, interrupts=(), state=None, result={'topic': 'pizza'}),), interrupts=())]"
      ]
     },
     "execution_count": 13,
     "metadata": {},
     "output_type": "execute_result"
    }
   ],
   "source": [
    "# get intermediate state\n",
    "\n",
    "list(workflow.get_state_history(config1))"
   ]
  },
  {
   "cell_type": "markdown",
   "id": "db71648e",
   "metadata": {},
   "source": [
    "Time Travel"
   ]
  },
  {
   "cell_type": "code",
   "execution_count": null,
   "id": "09f038ed",
   "metadata": {},
   "outputs": [
    {
     "data": {
      "text/plain": [
       "StateSnapshot(values={'topic': 'pizza', 'joke': 'Why did the pizza slice go to the doctor? \\n\\nBecause it was feeling a little cheesy! 🍕  \\n'}, next=('generate_explanation',), config={'configurable': {'thread_id': '1', 'checkpoint_id': '1f07339a-9d19-6624-8001-7943e757d919'}}, metadata={'source': 'loop', 'step': 1, 'parents': {}}, created_at='2025-08-07T02:53:14.790045+00:00', parent_config={'configurable': {'thread_id': '1', 'checkpoint_ns': '', 'checkpoint_id': '1f07339a-8f86-697b-8000-e29a5065c627'}}, tasks=(PregelTask(id='ccdf6e5a-8e22-a7d9-da7a-4afd3f90ca1a', name='generate_explanation', path=('__pregel_pull', 'generate_explanation'), error=None, interrupts=(), state=None, result={'explanation': 'This is a play on words!  \\n\\n* **Cheesy** can refer to something being cheesy in the sense of being over-the-top or corny. \\n* **Cheesy** can also refer to the type of dairy product used on pizza.\\n\\nThe joke makes a humorous connection between these two meanings. The pizza slice is feeling \"a little cheesy\" in the sense that it\\'s feeling unwell, but it also literally *is* cheesy because it\\'s made of cheese.  \\n\\n'}),), interrupts=())"
      ]
     },
     "execution_count": 14,
     "metadata": {},
     "output_type": "execute_result"
    }
   ],
   "source": [
    "# get a particular checkpointer\n",
    "\n",
    "workflow.get_state({'configurable':{'thread_id':'1','checkpoint_id':'1f07339a-9d19-6624-8001-7943e757d919'}})"
   ]
  },
  {
   "cell_type": "code",
   "execution_count": 15,
   "id": "337fdce2",
   "metadata": {},
   "outputs": [
    {
     "data": {
      "text/plain": [
       "{'topic': 'pizza',\n",
       " 'joke': 'Why did the pizza slice go to the doctor? \\n\\nBecause it was feeling a little cheesy! 🍕  \\n',\n",
       " 'explanation': 'This joke plays on the word \"cheesy.\"  \\n\\n* **Literal Meaning:**  Pizza is made with cheese, so a pizza slice literally *is* cheesy.\\n* **Figurative Meaning:** \"Cheesy\" can also mean something that is corny, cheesy, or unoriginal. \\n\\nThe joke sets up the expectation that the pizza slice is sick in a real way, but then uses the word \"cheesy\" in its figurative sense to make a funny, unexpected connection to the pizza\\'s ingredients.  \\n\\n'}"
      ]
     },
     "execution_count": 15,
     "metadata": {},
     "output_type": "execute_result"
    }
   ],
   "source": [
    "workflow.invoke(None, {'configurable':{'thread_id':'1','checkpoint_id':'1f07339a-9d19-6624-8001-7943e757d919'}})"
   ]
  },
  {
   "cell_type": "code",
   "execution_count": 16,
   "id": "fc4afe33",
   "metadata": {},
   "outputs": [
    {
     "data": {
      "text/plain": [
       "[StateSnapshot(values={'topic': 'pizza', 'joke': 'Why did the pizza slice go to the doctor? \\n\\nBecause it was feeling a little cheesy! 🍕  \\n', 'explanation': 'This joke plays on the word \"cheesy.\"  \\n\\n* **Literal Meaning:**  Pizza is made with cheese, so a pizza slice literally *is* cheesy.\\n* **Figurative Meaning:** \"Cheesy\" can also mean something that is corny, cheesy, or unoriginal. \\n\\nThe joke sets up the expectation that the pizza slice is sick in a real way, but then uses the word \"cheesy\" in its figurative sense to make a funny, unexpected connection to the pizza\\'s ingredients.  \\n\\n'}, next=(), config={'configurable': {'thread_id': '1', 'checkpoint_ns': '', 'checkpoint_id': '1f0733ac-d269-6717-8002-f63a6e81e29d'}}, metadata={'source': 'loop', 'step': 2, 'parents': {}}, created_at='2025-08-07T03:01:23.564111+00:00', parent_config={'configurable': {'thread_id': '1', 'checkpoint_ns': '', 'checkpoint_id': '1f07339a-9d19-6624-8001-7943e757d919'}}, tasks=(), interrupts=()),\n",
       " StateSnapshot(values={'topic': 'pizza', 'joke': 'Why did the pizza slice go to the doctor? \\n\\nBecause it was feeling a little cheesy! 🍕  \\n', 'explanation': 'This is a play on words!  \\n\\n* **Cheesy** can refer to something being cheesy in the sense of being over-the-top or corny. \\n* **Cheesy** can also refer to the type of dairy product used on pizza.\\n\\nThe joke makes a humorous connection between these two meanings. The pizza slice is feeling \"a little cheesy\" in the sense that it\\'s feeling unwell, but it also literally *is* cheesy because it\\'s made of cheese.  \\n\\n'}, next=(), config={'configurable': {'thread_id': '1', 'checkpoint_ns': '', 'checkpoint_id': '1f07339a-a332-6196-8002-f6acae7c12c9'}}, metadata={'source': 'loop', 'step': 2, 'parents': {}}, created_at='2025-08-07T02:53:15.429314+00:00', parent_config={'configurable': {'thread_id': '1', 'checkpoint_ns': '', 'checkpoint_id': '1f07339a-9d19-6624-8001-7943e757d919'}}, tasks=(), interrupts=()),\n",
       " StateSnapshot(values={'topic': 'pizza', 'joke': 'Why did the pizza slice go to the doctor? \\n\\nBecause it was feeling a little cheesy! 🍕  \\n'}, next=('generate_explanation',), config={'configurable': {'thread_id': '1', 'checkpoint_ns': '', 'checkpoint_id': '1f07339a-9d19-6624-8001-7943e757d919'}}, metadata={'source': 'loop', 'step': 1, 'parents': {}}, created_at='2025-08-07T02:53:14.790045+00:00', parent_config={'configurable': {'thread_id': '1', 'checkpoint_ns': '', 'checkpoint_id': '1f07339a-8f86-697b-8000-e29a5065c627'}}, tasks=(PregelTask(id='ccdf6e5a-8e22-a7d9-da7a-4afd3f90ca1a', name='generate_explanation', path=('__pregel_pull', 'generate_explanation'), error=None, interrupts=(), state=None, result={'explanation': 'This is a play on words!  \\n\\n* **Cheesy** can refer to something being cheesy in the sense of being over-the-top or corny. \\n* **Cheesy** can also refer to the type of dairy product used on pizza.\\n\\nThe joke makes a humorous connection between these two meanings. The pizza slice is feeling \"a little cheesy\" in the sense that it\\'s feeling unwell, but it also literally *is* cheesy because it\\'s made of cheese.  \\n\\n'}),), interrupts=()),\n",
       " StateSnapshot(values={'topic': 'pizza'}, next=('generate_joke',), config={'configurable': {'thread_id': '1', 'checkpoint_ns': '', 'checkpoint_id': '1f07339a-8f86-697b-8000-e29a5065c627'}}, metadata={'source': 'loop', 'step': 0, 'parents': {}}, created_at='2025-08-07T02:53:13.366770+00:00', parent_config={'configurable': {'thread_id': '1', 'checkpoint_ns': '', 'checkpoint_id': '1f07339a-8f86-697a-bfff-8ec31efca02c'}}, tasks=(PregelTask(id='972af842-f200-1c47-197d-cbe7e426cca0', name='generate_joke', path=('__pregel_pull', 'generate_joke'), error=None, interrupts=(), state=None, result={'joke': 'Why did the pizza slice go to the doctor? \\n\\nBecause it was feeling a little cheesy! 🍕  \\n'}),), interrupts=()),\n",
       " StateSnapshot(values={}, next=('__start__',), config={'configurable': {'thread_id': '1', 'checkpoint_ns': '', 'checkpoint_id': '1f07339a-8f86-697a-bfff-8ec31efca02c'}}, metadata={'source': 'input', 'step': -1, 'parents': {}}, created_at='2025-08-07T02:53:13.366770+00:00', parent_config=None, tasks=(PregelTask(id='9ca533aa-5b01-fa9d-f73a-ee3268b001c3', name='__start__', path=('__pregel_pull', '__start__'), error=None, interrupts=(), state=None, result={'topic': 'pizza'}),), interrupts=())]"
      ]
     },
     "execution_count": 16,
     "metadata": {},
     "output_type": "execute_result"
    }
   ],
   "source": [
    "list(workflow.get_state_history(config1))"
   ]
  },
  {
   "cell_type": "markdown",
   "id": "0bb58999",
   "metadata": {},
   "source": [
    "Updating State"
   ]
  },
  {
   "cell_type": "code",
   "execution_count": 17,
   "id": "449efda1",
   "metadata": {},
   "outputs": [
    {
     "data": {
      "text/plain": [
       "{'configurable': {'thread_id': '1',\n",
       "  'checkpoint_ns': '',\n",
       "  'checkpoint_id': '1f0733bb-3ee1-61a8-8002-5dab204db0d8'}}"
      ]
     },
     "execution_count": 17,
     "metadata": {},
     "output_type": "execute_result"
    }
   ],
   "source": [
    "workflow.update_state({'configurable':{'thread_id':'1','checkpoint_id':'1f07339a-9d19-6624-8001-7943e757d919','checkpoint_ns':'' }},{'topic':'samosa'})"
   ]
  },
  {
   "cell_type": "code",
   "execution_count": 18,
   "id": "97cd03da",
   "metadata": {},
   "outputs": [
    {
     "data": {
      "text/plain": [
       "[StateSnapshot(values={'topic': 'samosa', 'joke': 'Why did the pizza slice go to the doctor? \\n\\nBecause it was feeling a little cheesy! 🍕  \\n'}, next=('generate_explanation',), config={'configurable': {'thread_id': '1', 'checkpoint_ns': '', 'checkpoint_id': '1f0733bb-3ee1-61a8-8002-5dab204db0d8'}}, metadata={'source': 'update', 'step': 2, 'parents': {}}, created_at='2025-08-07T03:07:50.747383+00:00', parent_config={'configurable': {'thread_id': '1', 'checkpoint_ns': '', 'checkpoint_id': '1f07339a-9d19-6624-8001-7943e757d919'}}, tasks=(PregelTask(id='d0e3187a-b188-e82f-60c1-868c256b8a16', name='generate_explanation', path=('__pregel_pull', 'generate_explanation'), error=None, interrupts=(), state=None, result=None),), interrupts=()),\n",
       " StateSnapshot(values={'topic': 'pizza', 'joke': 'Why did the pizza slice go to the doctor? \\n\\nBecause it was feeling a little cheesy! 🍕  \\n', 'explanation': 'This joke plays on the word \"cheesy.\"  \\n\\n* **Literal Meaning:**  Pizza is made with cheese, so a pizza slice literally *is* cheesy.\\n* **Figurative Meaning:** \"Cheesy\" can also mean something that is corny, cheesy, or unoriginal. \\n\\nThe joke sets up the expectation that the pizza slice is sick in a real way, but then uses the word \"cheesy\" in its figurative sense to make a funny, unexpected connection to the pizza\\'s ingredients.  \\n\\n'}, next=(), config={'configurable': {'thread_id': '1', 'checkpoint_ns': '', 'checkpoint_id': '1f0733ac-d269-6717-8002-f63a6e81e29d'}}, metadata={'source': 'loop', 'step': 2, 'parents': {}}, created_at='2025-08-07T03:01:23.564111+00:00', parent_config={'configurable': {'thread_id': '1', 'checkpoint_ns': '', 'checkpoint_id': '1f07339a-9d19-6624-8001-7943e757d919'}}, tasks=(), interrupts=()),\n",
       " StateSnapshot(values={'topic': 'pizza', 'joke': 'Why did the pizza slice go to the doctor? \\n\\nBecause it was feeling a little cheesy! 🍕  \\n', 'explanation': 'This is a play on words!  \\n\\n* **Cheesy** can refer to something being cheesy in the sense of being over-the-top or corny. \\n* **Cheesy** can also refer to the type of dairy product used on pizza.\\n\\nThe joke makes a humorous connection between these two meanings. The pizza slice is feeling \"a little cheesy\" in the sense that it\\'s feeling unwell, but it also literally *is* cheesy because it\\'s made of cheese.  \\n\\n'}, next=(), config={'configurable': {'thread_id': '1', 'checkpoint_ns': '', 'checkpoint_id': '1f07339a-a332-6196-8002-f6acae7c12c9'}}, metadata={'source': 'loop', 'step': 2, 'parents': {}}, created_at='2025-08-07T02:53:15.429314+00:00', parent_config={'configurable': {'thread_id': '1', 'checkpoint_ns': '', 'checkpoint_id': '1f07339a-9d19-6624-8001-7943e757d919'}}, tasks=(), interrupts=()),\n",
       " StateSnapshot(values={'topic': 'pizza', 'joke': 'Why did the pizza slice go to the doctor? \\n\\nBecause it was feeling a little cheesy! 🍕  \\n'}, next=('generate_explanation',), config={'configurable': {'thread_id': '1', 'checkpoint_ns': '', 'checkpoint_id': '1f07339a-9d19-6624-8001-7943e757d919'}}, metadata={'source': 'loop', 'step': 1, 'parents': {}}, created_at='2025-08-07T02:53:14.790045+00:00', parent_config={'configurable': {'thread_id': '1', 'checkpoint_ns': '', 'checkpoint_id': '1f07339a-8f86-697b-8000-e29a5065c627'}}, tasks=(PregelTask(id='ccdf6e5a-8e22-a7d9-da7a-4afd3f90ca1a', name='generate_explanation', path=('__pregel_pull', 'generate_explanation'), error=None, interrupts=(), state=None, result={'explanation': 'This is a play on words!  \\n\\n* **Cheesy** can refer to something being cheesy in the sense of being over-the-top or corny. \\n* **Cheesy** can also refer to the type of dairy product used on pizza.\\n\\nThe joke makes a humorous connection between these two meanings. The pizza slice is feeling \"a little cheesy\" in the sense that it\\'s feeling unwell, but it also literally *is* cheesy because it\\'s made of cheese.  \\n\\n'}),), interrupts=()),\n",
       " StateSnapshot(values={'topic': 'pizza'}, next=('generate_joke',), config={'configurable': {'thread_id': '1', 'checkpoint_ns': '', 'checkpoint_id': '1f07339a-8f86-697b-8000-e29a5065c627'}}, metadata={'source': 'loop', 'step': 0, 'parents': {}}, created_at='2025-08-07T02:53:13.366770+00:00', parent_config={'configurable': {'thread_id': '1', 'checkpoint_ns': '', 'checkpoint_id': '1f07339a-8f86-697a-bfff-8ec31efca02c'}}, tasks=(PregelTask(id='972af842-f200-1c47-197d-cbe7e426cca0', name='generate_joke', path=('__pregel_pull', 'generate_joke'), error=None, interrupts=(), state=None, result={'joke': 'Why did the pizza slice go to the doctor? \\n\\nBecause it was feeling a little cheesy! 🍕  \\n'}),), interrupts=()),\n",
       " StateSnapshot(values={}, next=('__start__',), config={'configurable': {'thread_id': '1', 'checkpoint_ns': '', 'checkpoint_id': '1f07339a-8f86-697a-bfff-8ec31efca02c'}}, metadata={'source': 'input', 'step': -1, 'parents': {}}, created_at='2025-08-07T02:53:13.366770+00:00', parent_config=None, tasks=(PregelTask(id='9ca533aa-5b01-fa9d-f73a-ee3268b001c3', name='__start__', path=('__pregel_pull', '__start__'), error=None, interrupts=(), state=None, result={'topic': 'pizza'}),), interrupts=())]"
      ]
     },
     "execution_count": 18,
     "metadata": {},
     "output_type": "execute_result"
    }
   ],
   "source": [
    "list(workflow.get_state_history(config1))"
   ]
  },
  {
   "cell_type": "code",
   "execution_count": 23,
   "id": "9ad65044",
   "metadata": {},
   "outputs": [
    {
     "data": {
      "text/plain": [
       "{'topic': 'samosa',\n",
       " 'joke': 'Why did the pizza slice go to the doctor? \\n\\nBecause it was feeling a little cheesy! 🍕  \\n',\n",
       " 'explanation': 'This joke plays on the double meaning of the word \"cheesy.\"\\n\\n* **Literal meaning:**  Pizza is made with cheese, so a slice of pizza literally *is* cheesy.\\n\\n* **Figurative meaning:**  \"Cheesy\" can also mean something that is corny, unoriginal, or cheesy as in lacking sophistication. \\n\\nThe joke works because it sets up the expectation of a serious reason for a pizza slice to go to the doctor, but then delivers a silly punchline based on the playful use of the word \"cheesy.\"  \\n\\n'}"
      ]
     },
     "execution_count": 23,
     "metadata": {},
     "output_type": "execute_result"
    }
   ],
   "source": [
    "workflow.invoke(None, {'configurable':{'thread_id':'1','checkpoint_id':'1f0733bb-3ee1-61a8-8002-5dab204db0d8'}})"
   ]
  },
  {
   "cell_type": "code",
   "execution_count": null,
   "id": "80b8e47c",
   "metadata": {},
   "outputs": [],
   "source": []
  }
 ],
 "metadata": {
  "kernelspec": {
   "display_name": "venv",
   "language": "python",
   "name": "python3"
  },
  "language_info": {
   "codemirror_mode": {
    "name": "ipython",
    "version": 3
   },
   "file_extension": ".py",
   "mimetype": "text/x-python",
   "name": "python",
   "nbconvert_exporter": "python",
   "pygments_lexer": "ipython3",
   "version": "3.10.9"
  }
 },
 "nbformat": 4,
 "nbformat_minor": 5
}
