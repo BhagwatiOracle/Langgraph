{
 "cells": [
  {
   "cell_type": "code",
   "execution_count": 1,
   "id": "0e56deac",
   "metadata": {},
   "outputs": [],
   "source": [
    "from langgraph.graph import StateGraph, START, END\n",
    "from langchain_groq import ChatGroq\n",
    "from typing import TypedDict\n",
    "from dotenv import load_dotenv "
   ]
  },
  {
   "cell_type": "code",
   "execution_count": 2,
   "id": "4321fbdd",
   "metadata": {},
   "outputs": [],
   "source": [
    "load_dotenv()\n",
    "\n",
    "model = ChatGroq(model = 'Gemma2-9b-it')"
   ]
  },
  {
   "cell_type": "code",
   "execution_count": 3,
   "id": "21e117f7",
   "metadata": {},
   "outputs": [],
   "source": [
    "class BlogState(TypedDict):\n",
    "    title: str\n",
    "    outline: str\n",
    "    content: str\n"
   ]
  },
  {
   "cell_type": "code",
   "execution_count": 4,
   "id": "63d2518a",
   "metadata": {},
   "outputs": [],
   "source": [
    "def create_outline(state: BlogState) -> BlogState:\n",
    "\n",
    "    #fetch title\n",
    "    title = state['title']\n",
    "\n",
    "    # call llm gen outline\n",
    "    prompt = f'Generate a detailed outline for a blog  on the topic - {title}'\n",
    "    outline = model.invoke(prompt).content\n",
    "\n",
    "    #update state\n",
    "    state['outline'] = outline\n",
    "\n",
    "    return state"
   ]
  },
  {
   "cell_type": "code",
   "execution_count": 5,
   "id": "d54d939b",
   "metadata": {},
   "outputs": [],
   "source": [
    "def create_blog(state: BlogState) -> BlogState:\n",
    "\n",
    "    title = state['title']\n",
    "    outline = state['outline']\n",
    "\n",
    "    prompt = f'Write a detailed blog on the title - {title} using the following outline \\n {outline}'\n",
    "\n",
    "    content = model.invoke(prompt).content\n",
    "    state['content'] = content\n",
    "\n",
    "    return state"
   ]
  },
  {
   "cell_type": "code",
   "execution_count": 6,
   "id": "cccf81ea",
   "metadata": {},
   "outputs": [],
   "source": [
    "graph = StateGraph(BlogState)\n",
    "\n",
    "graph.add_node('create_outline', create_outline)\n",
    "graph.add_node('create_blog',create_blog)\n",
    "\n",
    "graph.add_edge(START, 'create_outline')\n",
    "graph.add_edge('create_outline','create_blog')\n",
    "graph.add_edge('create_blog',END)\n",
    "\n",
    "workflow = graph.compile()"
   ]
  },
  {
   "cell_type": "code",
   "execution_count": 8,
   "id": "46a27fb6",
   "metadata": {},
   "outputs": [
    {
     "name": "stdout",
     "output_type": "stream",
     "text": [
      "##  The Rise of AI in India: A New Era of Innovation\n",
      "\n",
      "**I. Introduction**\n",
      "\n",
      "Imagine a world where doctors can diagnose diseases with unparalleled accuracy, farmers can predict crop yields with laser-like precision, and students learn at their own pace, guided by intelligent tutors. This isn't science fiction, it's the reality that Artificial Intelligence (AI) is rapidly shaping in India. AI, the ability of machines to mimic human intelligence, is poised to revolutionize every facet of Indian society, from healthcare and education to finance and agriculture. This blog post will delve into the burgeoning AI landscape in India, exploring its growth, impact, and the challenges that lie ahead.\n",
      "\n",
      " **II. India's AI Ecosystem: A Thriving Landscape**\n",
      "\n",
      "India is witnessing an explosion of AI-driven innovation. A vibrant startup ecosystem is flourishing, with numerous companies developing cutting-edge solutions across diverse sectors.  \n",
      "\n",
      "* **Growing Startup Scene:**  Startups like  **AI-powered healthcare platform Practo**,  **personalized learning platform Duolingo**, and **financial technology firm Paytm** are just a few examples of the dynamic Indian AI startup scene.  Incubators and accelerators like **Startup India** and **Plug and Play Tech Center** are actively fostering this growth by providing mentorship, funding, and access to global markets.\n",
      "\n",
      "* **Government Initiatives:** Recognizing the transformative potential of AI, the Indian government has launched several initiatives to promote its development and adoption.  **NITI Aayog's National Strategy for Artificial Intelligence** outlines a roadmap for responsible and inclusive AI development, focusing on areas like healthcare, education, and agriculture.  Programs like **AI for All** aim to build a skilled AI workforce and ensure equitable access to AI education.\n",
      "\n",
      "* **Academic Excellence:** Leading universities like **IIT Bombay, IIT Madras, and the Indian Institute of Science (IISc)** are at the forefront of AI research. Their researchers are making significant contributions to areas like machine learning, natural language processing, and computer vision, collaborating with international institutions to push the boundaries of AI knowledge.\n",
      "\n",
      "* **Talent Pool:** India boasts a vast pool of highly skilled engineers and data scientists, a critical resource for the AI industry. Educational programs are rapidly adapting to meet the growing demand for AI expertise, incorporating AI courses and specializations into their curricula.\n",
      "\n",
      "**III. Impact of AI across Industries**\n",
      "\n",
      "The impact of AI is already being felt across diverse sectors in India, promising to reshape the future of work and everyday life.\n",
      "\n",
      "* **Healthcare:** AI is transforming healthcare delivery in India by enabling faster and more accurate diagnoses, personalized treatment plans, and drug discovery.  AI-powered imaging analysis tools are assisting doctors in detecting diseases like cancer and heart conditions at early stages. **AI-powered telemedicine platforms** are bridging the gap in healthcare access, connecting patients in remote areas with expert doctors.\n",
      "\n",
      "* **Education:**  AI is revolutionizing education by personalizing learning experiences, automating tasks, and making education more accessible.  **Adaptive learning platforms** tailor educational content to individual student needs, providing personalized feedback and guidance.  AI-powered chatbots are assisting students with their queries, freeing up teachers to focus on more complex tasks. \n",
      "\n",
      "* **Finance:**  AI is transforming the financial sector by automating processes, improving risk assessment, and enhancing customer service.  **AI-powered fraud detection systems** are safeguarding financial transactions, while **robo-advisors** are providing personalized financial advice to investors.\n",
      "\n",
      "* **Agriculture:** AI is empowering farmers with data-driven insights to optimize crop yields, manage resources efficiently, and adapt to changing weather patterns. **AI-powered drones** are used for crop monitoring and pest detection, while **smart irrigation systems** are optimizing water usage.\n",
      "\n",
      "* **Other Industries:**  AI is making its mark in various other sectors, including retail, manufacturing, and transportation.  **AI-powered chatbots** are enhancing customer service in retail, while **AI-powered robots** are automating tasks in manufacturing.  **AI-driven traffic management systems** are improving transportation efficiency.\n",
      "\n",
      " **IV. Challenges and Ethical Considerations**\n",
      "\n",
      "While the potential of AI is immense, it also presents several challenges and ethical considerations that need to be addressed.\n",
      "\n",
      "* **Data Privacy and Security:** The use of AI relies heavily on data, raising concerns about the privacy and security of personal information. Robust data protection regulations and ethical guidelines are crucial to ensure responsible data handling.\n",
      "\n",
      "* **Bias in Algorithms:**  AI algorithms can inherit biases from the data they are trained on, leading to unfair or discriminatory outcomes.  It is essential to develop algorithms that are fair, equitable, and inclusive.\n",
      "\n",
      "* **Job Displacement:**  AI-powered automation has the potential to displace jobs in certain sectors.  Strategies for reskilling and upskilling the workforce are necessary to mitigate this impact and ensure a smooth transition to an AI-driven future.\n",
      "\n",
      " **V. Future of AI in India: Opportunities and Outlook**\n",
      "\n",
      "The future of AI in India is bright, with tremendous opportunities for growth and innovation.  \n",
      "\n",
      "* **Continued Growth and Innovation:**  India is expected to become a global leader in AI, driven by its vibrant startup ecosystem, talented workforce, and government support. Breakthroughs in areas like natural language processing, computer vision, and robotics are likely to emerge.\n",
      "* **Global Leadership:** India has the potential to become a global leader in AI, leveraging its strengths in data analytics, software development, and a large and diverse population. \n",
      "* **Collaboration and Partnerships:** International collaboration and partnerships will play a crucial role in accelerating AI development and addressing global challenges. \n",
      "\n",
      " **Conclusion**\n",
      "\n",
      "The rise of AI in India is a transformative journey, promising to reshape countless industries and aspects of life.  By embracing the opportunities and addressing the challenges responsibly, India can harness the power of AI to create a more equitable, sustainable, and prosperous future for all its citizens.  \n",
      "\n",
      "\n",
      "\n"
     ]
    }
   ],
   "source": [
    "initial_state = {'title': 'Rise of AI in India'}\n",
    "\n",
    "final_state = workflow.invoke(initial_state)\n",
    "\n",
    "print(final_state['content'])"
   ]
  },
  {
   "cell_type": "code",
   "execution_count": null,
   "id": "18aae3d4",
   "metadata": {},
   "outputs": [],
   "source": []
  }
 ],
 "metadata": {
  "kernelspec": {
   "display_name": "venv",
   "language": "python",
   "name": "python3"
  },
  "language_info": {
   "codemirror_mode": {
    "name": "ipython",
    "version": 3
   },
   "file_extension": ".py",
   "mimetype": "text/x-python",
   "name": "python",
   "nbconvert_exporter": "python",
   "pygments_lexer": "ipython3",
   "version": "3.10.9"
  }
 },
 "nbformat": 4,
 "nbformat_minor": 5
}
